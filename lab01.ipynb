{
 "cells": [
  {
   "cell_type": "markdown",
   "id": "64b00959",
   "metadata": {},
   "source": [
    "# Task 1\n",
    "Responda a cada de las siguientes preguntas de forma clara y lo más completamente posible.\n",
    "### 1. ¿Qué es un Markov Decision Process (MDP)?\n",
    "Es un modelo para describir problemas donde un agente toma decisiones paso a paso dentro de un entorno incierto. “Markov” significa que lo único que importa para decidir es el estado actual y la acción que elijas ahora; el pasado no influye directamente.\n",
    "\n",
    "---\n",
    "\n",
    "### 2. Componentes principales de un MDP\n",
    "- **Estados**: todas las situaciones posibles en las que puede estar el agente.\n",
    "- **Acciones**: lo que el agente puede hacer en cada estado.\n",
    "- **Dinámica o función de transición**: describe con qué probabilidad el sistema pasa de un estado a otro después de una acción.\n",
    "- **Recompensa**: número (positivo o negativo) que indica qué tan buena fue la acción en ese estado.\n",
    "- **Factor de descuento**: peso que se da a las recompensas futuras frente a las inmediatas.\n",
    "- (Opcionales pero comunes) **Distribución inicial de estados** y **horizonte** (cuánto duran los episodios).\n",
    "\n",
    "---\n",
    "\n",
    "### 3. Objetivo del aprendizaje por refuerzo con MDPs\n",
    "Aprender una **política** (una regla para elegir acciones en cada estado) que maximice la **recompensa total esperada** a lo largo del tiempo. En otras palabras, decidir consistentemente de forma que, en promedio, se obtenga el mayor beneficio posible.\n"
   ]
  },
  {
   "attachments": {
    "image.png": {
     "image/png": "[encoded data removed]"
    }
   },
   "cell_type": "markdown",
   "id": "8fb16889",
   "metadata": {},
   "source": [
    "# Task 2\n",
    "El objetivo principal de este ejercicio es que simule un MDP que represente un robot que navega por un laberinto de\n",
    "cuadrículas de 3x3 y evalúe una política determinada.\n",
    "Por ello considere, a un robot navega por un laberinto de cuadrícula de 3x3. El robot puede moverse en cuatro\n",
    "direcciones: arriba, abajo, izquierda y derecha. El objetivo es navegar desde la posición inicial hasta la posición de\n",
    "meta evitando obstáculos. El robot recibe una recompensa cuando alcanza la meta y una penalización si choca\n",
    "con un obstáculo\n",
    "\n",
    "![image.png](attachment:image.png)"
   ]
  },
  {
   "cell_type": "code",
   "execution_count": 17,
   "id": "d6e608a8",
   "metadata": {},
   "outputs": [],
   "source": [
    "import numpy as np\n",
    "from collections import defaultdict\n",
    "import random\n",
    "\n",
    "# Reproducibilidad\n",
    "random.seed(42)\n",
    "np.random.seed(42)\n",
    "\n",
    "# --- Laberinto 3x3 ---\n",
    "# Índices:\n",
    "# 0 1 2\n",
    "# 3 4 5\n",
    "# 6 7 8\n",
    "\n",
    "S_state = 0          # S (inicio)\n",
    "G_state = 2          # G (meta)\n",
    "obstacles = {4, 8}   # X (obstáculos) -> centro y esquina inferior derecha\n",
    "\n",
    "grid_size = 3\n",
    "actions = [\"up\", \"down\", \"left\", \"right\"]\n",
    "\n",
    "# Recompensas\n",
    "reward_goal = 10.0\n",
    "reward_obstacle = -5.0\n",
    "reward_step = -0.1   # costo por moverse (puedes poner 0 si no quieres costo)"
   ]
  },
  {
   "cell_type": "code",
   "execution_count": 18,
   "id": "460dc63c",
   "metadata": {},
   "outputs": [],
   "source": [
    "def idx_to_rc(idx, n=grid_size):\n",
    "    return divmod(idx, n)  # (fila, columna)\n",
    "\n",
    "def rc_to_idx(r, c, n=grid_size):\n",
    "    return r * n + c"
   ]
  },
  {
   "cell_type": "code",
   "execution_count": 19,
   "id": "8b414260",
   "metadata": {},
   "outputs": [],
   "source": [
    "P = defaultdict(lambda: defaultdict(dict))   # P[s][a] -> {s': prob}\n",
    "R = defaultdict(lambda: defaultdict(dict))   # R[s][a][s'] -> reward\n",
    "\n",
    "def step_func(s, a):\n",
    "    # Estado absorbente: si ya está en la meta, permanece ahí\n",
    "    if s == G_state:\n",
    "        return s, 0.0\n",
    "    \n",
    "    r, c = idx_to_rc(s)\n",
    "    nr, nc = r, c\n",
    "\n",
    "    if a == \"up\":    nr -= 1\n",
    "    if a == \"down\":  nr += 1\n",
    "    if a == \"left\":  nc -= 1\n",
    "    if a == \"right\": nc += 1\n",
    "\n",
    "    # Fuera de límites -> no te mueves (solo costo de paso)\n",
    "    if nr < 0 or nr >= grid_size or nc < 0 or nc >= grid_size:\n",
    "        return s, reward_step\n",
    "\n",
    "    s_next = rc_to_idx(nr, nc)\n",
    "\n",
    "    # Obstáculo -> te quedas y penaliza\n",
    "    if s_next in obstacles:\n",
    "        return s, reward_obstacle\n",
    "\n",
    "    # Meta\n",
    "    if s_next == G_state:\n",
    "        return s_next, reward_goal\n",
    "\n",
    "    # Movimiento normal\n",
    "    return s_next, reward_step\n",
    "\n",
    "num_states = grid_size * grid_size\n",
    "for s in range(num_states):\n",
    "    for a in actions:\n",
    "        s_next, rew = step_func(s, a)\n",
    "        P[s][a][s_next] = 1.0\n",
    "        R[s][a][s_next] = rew\n"
   ]
  },
  {
   "cell_type": "code",
   "execution_count": 20,
   "id": "deae081d",
   "metadata": {},
   "outputs": [],
   "source": [
    "UP, DOWN, LEFT, RIGHT = \"up\", \"down\", \"left\", \"right\"\n",
    "ARROWS = {UP:\"↑\", DOWN:\"↓\", LEFT:\"←\", RIGHT:\"→\"}\n",
    "\n",
    "def render_grid(agent=None, path=set()):\n",
    "    \"\"\"\n",
    "    Imprime el 3x3.\n",
    "    S, G, X son fijos.\n",
    "    'R' es el agente.\n",
    "    '·' marca celdas visitadas (path).\n",
    "    \"\"\"\n",
    "    symbols = []\n",
    "    for s in range(num_states):\n",
    "        if s == S_state:\n",
    "            ch = \"S\"\n",
    "        elif s == G_state:\n",
    "            ch = \"G\"\n",
    "        elif s in obstacles:\n",
    "            ch = \"X\"\n",
    "        else:\n",
    "            ch = \".\"\n",
    "\n",
    "        if s in path and s not in (S_state, G_state) and s not in obstacles:\n",
    "            ch = \"·\"\n",
    "\n",
    "        if agent is not None and s == agent:\n",
    "            ch = \"R\"\n",
    "\n",
    "        symbols.append(ch)\n",
    "\n",
    "    for r in range(grid_size):\n",
    "        row = symbols[r*grid_size:(r+1)*grid_size]\n",
    "        print(\" \".join(row))\n",
    "    print()\n",
    "\n",
    "def render_policy(policy_dict):\n",
    "    \"\"\"Muestra flechas de la política en cada estado válido.\"\"\"\n",
    "    arrows = []\n",
    "    for s in range(num_states):\n",
    "        if s in obstacles:\n",
    "            ch = \"X\"\n",
    "        elif s == S_state:\n",
    "            ch = \"S\"\n",
    "        elif s == G_state:\n",
    "            ch = \"G\"\n",
    "        else:\n",
    "            a = policy_dict.get(s, None)\n",
    "            ch = ARROWS.get(a, \".\")\n",
    "        arrows.append(ch)\n",
    "\n",
    "    for r in range(grid_size):\n",
    "        print(\" \".join(arrows[r*grid_size:(r+1)*grid_size]))\n",
    "    print()"
   ]
  },
  {
   "cell_type": "code",
   "execution_count": 21,
   "id": "9be4d865",
   "metadata": {},
   "outputs": [],
   "source": [
    "def run_episode(policy, max_steps=50, start_state=S_state, render=False):\n",
    "    s = start_state\n",
    "    total_reward = 0.0\n",
    "    trajectory = [s]\n",
    "\n",
    "    for _ in range(max_steps):\n",
    "        a = policy.get(s, random.choice(actions))\n",
    "        (s_next, _prob), = P[s][a].items()  # determinista\n",
    "        reward = R[s][a][s_next]\n",
    "\n",
    "        total_reward += reward\n",
    "        s = s_next\n",
    "        trajectory.append(s)\n",
    "\n",
    "        if render:\n",
    "            render_grid(agent=s, path=set(trajectory))\n",
    "\n",
    "        if s == G_state:\n",
    "            break\n",
    "\n",
    "    return total_reward, trajectory\n",
    "\n",
    "def evaluate_policy(policy, n_episodes=1000, max_steps=50):\n",
    "    returns = []\n",
    "    for _ in range(n_episodes):\n",
    "        ret, _ = run_episode(policy, max_steps=max_steps)\n",
    "        returns.append(ret)\n",
    "    return np.mean(returns), np.std(returns)"
   ]
  },
  {
   "cell_type": "code",
   "execution_count": 22,
   "id": "9567fb04",
   "metadata": {},
   "outputs": [
    {
     "name": "stdout",
     "output_type": "stream",
     "text": [
      "Política ALEATORIA:\n",
      "S ↑ G\n",
      "↓ X ↓\n",
      "↑ ↑ X\n",
      "\n",
      "Recompensa episodio (aleatoria): -5.00\n",
      "Trayectoria aleatoria: [0, 0, 0, 0, 0, 0, 0, 0, 0, 0, 0, 0, 0, 0, 0, 0, 0, 0, 0, 0, 0, 0, 0, 0, 0, 0, 0, 0, 0, 0, 0, 0, 0, 0, 0, 0, 0, 0, 0, 0, 0, 0, 0, 0, 0, 0, 0, 0, 0, 0, 0]\n",
      "S . G\n",
      ". X .\n",
      ". . X\n",
      "\n"
     ]
    }
   ],
   "source": [
    "random_policy = {s: random.choice(actions) for s in range(num_states)}\n",
    "\n",
    "print(\"Política ALEATORIA:\")\n",
    "render_policy(random_policy)\n",
    "\n",
    "ret_rand, traj_rand = run_episode(random_policy, render=False)\n",
    "print(f\"Recompensa episodio (aleatoria): {ret_rand:.2f}\")\n",
    "print(\"Trayectoria aleatoria:\", traj_rand)\n",
    "render_grid(path=set(traj_rand))"
   ]
  },
  {
   "cell_type": "code",
   "execution_count": 23,
   "id": "78a12473",
   "metadata": {},
   "outputs": [
    {
     "name": "stdout",
     "output_type": "stream",
     "text": [
      "Ep 100/800 - Retorno: 4.20 - ε=0.606\n",
      "Ep 200/800 - Retorno: 9.90 - ε=0.367\n",
      "Ep 300/800 - Retorno: 9.80 - ε=0.222\n",
      "Ep 400/800 - Retorno: 9.90 - ε=0.135\n",
      "Ep 500/800 - Retorno: 9.90 - ε=0.082\n",
      "Ep 600/800 - Retorno: 9.90 - ε=0.050\n",
      "Ep 700/800 - Retorno: 9.90 - ε=0.050\n",
      "Ep 800/800 - Retorno: 9.90 - ε=0.050\n"
     ]
    }
   ],
   "source": [
    "alpha = 0.1      # tasa de aprendizaje\n",
    "gamma = 0.99     # factor de descuento\n",
    "epsilon = 1.0    # exploración inicial\n",
    "epsilon_min = 0.05\n",
    "epsilon_decay = 0.995\n",
    "episodes = 800\n",
    "max_steps = 50\n",
    "\n",
    "action_to_idx = {a:i for i,a in enumerate(actions)}\n",
    "Q = np.zeros((num_states, len(actions)))\n",
    "\n",
    "def epsilon_greedy(s, eps):\n",
    "    if random.random() < eps:\n",
    "        return random.choice(actions)\n",
    "    return actions[np.argmax(Q[s])]\n",
    "\n",
    "returns = []\n",
    "\n",
    "for ep in range(episodes):\n",
    "    s = S_state\n",
    "    total = 0.0\n",
    "\n",
    "    for _ in range(max_steps):\n",
    "        a = epsilon_greedy(s, epsilon)\n",
    "        (s_next, _), = P[s][a].items()\n",
    "        r = R[s][a][s_next]\n",
    "\n",
    "        ai = action_to_idx[a]\n",
    "        Q[s, ai] = (1-alpha)*Q[s, ai] + alpha*(r + gamma*np.max(Q[s_next]))\n",
    "\n",
    "        total += r\n",
    "        s = s_next\n",
    "        if s == G_state:\n",
    "            break\n",
    "\n",
    "    returns.append(total)\n",
    "    epsilon = max(epsilon_min, epsilon * epsilon_decay)\n",
    "\n",
    "    if (ep+1) % 100 == 0:\n",
    "        print(f\"Ep {ep+1}/{episodes} - Retorno: {total:.2f} - ε={epsilon:.3f}\")\n"
   ]
  },
  {
   "cell_type": "code",
   "execution_count": 24,
   "id": "58185b27",
   "metadata": {},
   "outputs": [
    {
     "name": "stdout",
     "output_type": "stream",
     "text": [
      "Política APRENDIDA:\n",
      "S → G\n",
      "↑ X ↑\n",
      "↑ ← X\n",
      "\n",
      "Recompensa con política aprendida: 9.90\n",
      "Trayectoria aprendida: [0, 1, 2]\n",
      "S · G\n",
      ". X .\n",
      ". . X\n",
      "\n"
     ]
    }
   ],
   "source": [
    "learned_policy = {s: actions[np.argmax(Q[s])] for s in range(num_states)}\n",
    "\n",
    "print(\"Política APRENDIDA:\")\n",
    "render_policy(learned_policy)\n",
    "\n",
    "ret_learned, traj_learned = run_episode(learned_policy, render=False)\n",
    "print(f\"Recompensa con política aprendida: {ret_learned:.2f}\")\n",
    "print(\"Trayectoria aprendida:\", traj_learned)\n",
    "render_grid(path=set(traj_learned))"
   ]
  },
  {
   "cell_type": "code",
   "execution_count": 25,
   "id": "5ec162e6",
   "metadata": {},
   "outputs": [
    {
     "data": {
      "image/png": "[encoded data removed]",
      "text/plain": [
       "<Figure size 640x480 with 1 Axes>"
      ]
     },
     "metadata": {},
     "output_type": "display_data"
    }
   ],
   "source": [
    "import matplotlib.pyplot as plt\n",
    "\n",
    "plt.plot(returns)\n",
    "plt.xlabel(\"Episodio\")\n",
    "plt.ylabel(\"Retorno\")\n",
    "plt.title(\"Q-Learning: retorno por episodio\")\n",
    "plt.show()"
   ]
  },
  {
   "cell_type": "code",
   "execution_count": 26,
   "id": "7033e4b9",
   "metadata": {},
   "outputs": [
    {
     "name": "stdout",
     "output_type": "stream",
     "text": [
      "T shape: (9, 4, 9) | R shape: (9, 4, 9)\n"
     ]
    }
   ],
   "source": [
    "num_actions = len(actions)\n",
    "T = np.zeros((num_states, num_actions, num_states))\n",
    "Rmat = np.zeros((num_states, num_actions, num_states))\n",
    "\n",
    "a_to_i = {a:i for i,a in enumerate(actions)}\n",
    "for s in range(num_states):\n",
    "    for a in actions:\n",
    "        for s2, p in P[s][a].items():\n",
    "            ai = a_to_i[a]\n",
    "            T[s, ai, s2] = p\n",
    "            Rmat[s, ai, s2] = R[s][a][s2]\n",
    "\n",
    "print(\"T shape:\", T.shape, \"| R shape:\", Rmat.shape)"
   ]
  }
 ],
 "metadata": {
  "kernelspec": {
   "display_name": "base",
   "language": "python",
   "name": "python3"
  },
  "language_info": {
   "codemirror_mode": {
    "name": "ipython",
    "version": 3
   },
   "file_extension": ".py",
   "mimetype": "text/x-python",
   "name": "python",
   "nbconvert_exporter": "python",
   "pygments_lexer": "ipython3",
   "version": "3.12.7"
  }
 },
 "nbformat": 4,
 "nbformat_minor": 5
}
